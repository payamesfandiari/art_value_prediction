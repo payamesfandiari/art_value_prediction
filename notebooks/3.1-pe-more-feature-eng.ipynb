{
 "cells": [
  {
   "cell_type": "code",
   "execution_count": 1,
   "metadata": {
    "collapsed": true
   },
   "outputs": [],
   "source": [
    "import pandas as pd\n",
    "import numpy as np\n",
    "from matplotlib import  pyplot as plt\n",
    "%matplotlib inline\n",
    "from time import time\n",
    "\n",
    "\n",
    "data = pd.read_csv(\"../data/raw/data.csv\",encoding=\"latin-1\")"
   ]
  },
  {
   "cell_type": "code",
   "execution_count": 2,
   "metadata": {
    "collapsed": true
   },
   "outputs": [],
   "source": [
    "X = data\n",
    "X.loc[:, 'materials'] = X.materials.apply(lambda x: str(x).lower().replace('\\r', '').replace('\\n', ' '))"
   ]
  },
  {
   "cell_type": "code",
   "execution_count": 16,
   "metadata": {},
   "outputs": [
    {
     "data": {
      "text/plain": [
       "145"
      ]
     },
     "execution_count": 16,
     "metadata": {},
     "output_type": "execute_result"
    }
   ],
   "source": [
    "int(len(X.materials.unique()) * 0.01)"
   ]
  },
  {
   "cell_type": "code",
   "execution_count": 17,
   "metadata": {},
   "outputs": [
    {
     "data": {
      "text/plain": [
       "['works on paper',\n",
       " 'sculpture',\n",
       " 'oil on canvas',\n",
       " 'prints',\n",
       " 'photographs',\n",
       " 'nan',\n",
       " 'acrylic on canvas',\n",
       " 'oil on board',\n",
       " 'bronze',\n",
       " 'oil on panel',\n",
       " 'watercolor',\n",
       " 'acrylic',\n",
       " 'color lithograph',\n",
       " 'pencil',\n",
       " 'oil on paper',\n",
       " 'lithograph',\n",
       " 'gouache',\n",
       " 'etching',\n",
       " 'oil on masonite',\n",
       " 'ink',\n",
       " 'ink on paper',\n",
       " 'bronze with brown patina',\n",
       " 'charcoal',\n",
       " 'acrylic on paper',\n",
       " 'chromogenic print',\n",
       " 'gelatin silver print',\n",
       " 'pencil and watercolor',\n",
       " 'c-print',\n",
       " 'pastel',\n",
       " 'cibachrome print',\n",
       " 'oil on linen',\n",
       " 'watercolor on paper',\n",
       " 'oilstick on paper',\n",
       " 'mixed media',\n",
       " 'gouache on paper',\n",
       " 'oil on paper on canvas',\n",
       " 'tempera on paper',\n",
       " 'color screenprint',\n",
       " 'offset in colours',\n",
       " 'screenprint',\n",
       " 'lithograph in colours',\n",
       " 'oil on paper laid on canvas',\n",
       " 'pen and ink',\n",
       " 'silkscreen in colours',\n",
       " 'oil and enamel on canvas',\n",
       " 'dry pigment',\n",
       " 'oil on burlap',\n",
       " 'lithograph printed in colours',\n",
       " 'etching and aquatint',\n",
       " 'offset lithograph',\n",
       " 'acrylic and graphite',\n",
       " 'charcoal on paper',\n",
       " 'graphite on paper',\n",
       " 'acrylic on paper on canvas',\n",
       " 'offset color lithograph',\n",
       " 'multiple',\n",
       " 'pen',\n",
       " 'oil on cardboard',\n",
       " 'silkscreen',\n",
       " 'enamel on aluminum',\n",
       " 'oil and pencil on board',\n",
       " 'color coupler print',\n",
       " 'oil on canvas board',\n",
       " 'acrylic on masonite',\n",
       " 'oilstick',\n",
       " 'pencil drawing',\n",
       " 'acrylic on board',\n",
       " 'colour coupler print',\n",
       " 'graphite',\n",
       " 'pencil on paper',\n",
       " 'ink and watercolor on paper',\n",
       " 'oil on wood',\n",
       " 'crayon',\n",
       " 'oil and collage on canvas',\n",
       " 'collotype colored with stencil.',\n",
       " 'etching and aquatint in colours',\n",
       " 'collage',\n",
       " 'ink and watercolor',\n",
       " 'oil on canvas on board',\n",
       " 'watercolor painted',\n",
       " 'terracotta',\n",
       " 'oil on canvas.',\n",
       " 'alkyd on paper',\n",
       " 'lithograph in colors',\n",
       " 'color aquatint',\n",
       " 'oil on paper on board',\n",
       " 'plaster',\n",
       " 'watercolour',\n",
       " 'gouache painted',\n",
       " 'etching in colours',\n",
       " 'enamel on mirror',\n",
       " 'tempera',\n",
       " 'etching on wove paper',\n",
       " 'watercolour on paper',\n",
       " 'vinyl on canvas',\n",
       " 'gouache and watercolor',\n",
       " 'tempera on board',\n",
       " 'acrylic and graphite on canvas',\n",
       " 'watercolor and pencil on paper',\n",
       " 'color lithograph on paper',\n",
       " 'color etching',\n",
       " 'oil and acrylic',\n",
       " 'oil on canvasboard',\n",
       " 'stainless steel',\n",
       " 'cast iron',\n",
       " 'oil and pencil on canvas',\n",
       " 'acrylic and oilstick',\n",
       " 'lithograph on paper',\n",
       " 'oil on newsprint',\n",
       " 'marble',\n",
       " 'c-print.',\n",
       " 'oil on aluminum',\n",
       " 'oil on newspaper',\n",
       " 'pastel on paper',\n",
       " 'acrylic on panel',\n",
       " 'neon',\n",
       " 'oil on board on panel',\n",
       " 'oil and charcoal',\n",
       " 'bronze with black patina',\n",
       " 'chromogenic print (c-print)',\n",
       " 'alkyd on canvas',\n",
       " 'acrylic on paper mounted on canvas',\n",
       " 'aquatint',\n",
       " 'mirror and enamel',\n",
       " 'paint glue',\n",
       " 'oil and sand',\n",
       " 'acrylic on shaped mirror',\n",
       " 'oil and graphite',\n",
       " 'screenprint on canvas',\n",
       " 'watercolor and graphite on paper',\n",
       " 'acrylic on shaped canvas',\n",
       " 'woodcut',\n",
       " 'dry pigment on paper',\n",
       " 'chalk',\n",
       " 'oil on color photograph',\n",
       " 'poster',\n",
       " 'watercolor and ink on paper',\n",
       " 'mixed media on canvas',\n",
       " 'acrylic and color oil sticks on canvas',\n",
       " 'acrylic and silkscreen ink on canvas',\n",
       " 'screenprint in colors',\n",
       " 'color screenprint on paper',\n",
       " 'enamel on laser cut steel',\n",
       " 'oil and graphite on canvas',\n",
       " 'enamel on shaped mirror']"
      ]
     },
     "execution_count": 17,
     "metadata": {},
     "output_type": "execute_result"
    }
   ],
   "source": [
    "list(X.materials.value_counts()[:int(len(X.materials.unique()) * 0.01)].index)"
   ]
  },
  {
   "cell_type": "code",
   "execution_count": null,
   "metadata": {
    "collapsed": true
   },
   "outputs": [],
   "source": []
  },
  {
   "cell_type": "code",
   "execution_count": null,
   "metadata": {
    "collapsed": true
   },
   "outputs": [],
   "source": []
  },
  {
   "cell_type": "code",
   "execution_count": 2,
   "metadata": {
    "collapsed": true
   },
   "outputs": [],
   "source": [
    "# drop the duplicates\n",
    "data = data.drop_duplicates()\n",
    "\n",
    "# drop instances where hammer_price is NaN or smaller than zero and there is no estimte of high or low\n",
    "data = data.loc[~np.logical_and(np.logical_and(np.logical_or(data.hammer_price.isnull(),data.hammer_price < 0),data.estimate_high.isnull()),data.estimate_low.isnull())]\n",
    "\n",
    "# Change Auction_date to datetime objects\n",
    "data.loc[:,'auction_date'] = pd.to_datetime(data.auction_date)\n",
    "\n",
    "# Making sure strings are all strings !\n",
    "data.loc[:,'category'] = data.category.apply(lambda x : str(x).lower().replace('\\r','').replace('\\n',' '))\n",
    "\n",
    "data.loc[:,'materials'] = data.materials.apply(lambda x : str(x).lower().replace('\\r','').replace('\\n',' '))\n",
    "\n",
    "data.loc[:,'location'] = data.location.apply(lambda x : str(x).lower().replace('\\r','').replace('\\n',' '))\n",
    "\n",
    "data.loc[:,'artist_nationality'] = data.artist_nationality.apply(lambda x : str(x).lower().replace('\\r','').replace('\\n',' '))"
   ]
  },
  {
   "cell_type": "code",
   "execution_count": 3,
   "metadata": {
    "collapsed": true
   },
   "outputs": [],
   "source": [
    "replacement_neg_hammer_price_ind = np.logical_and(np.logical_or(data.hammer_price < 0,data.hammer_price.isnull()),np.logical_not(data.estimate_high.isnull()))\n",
    "replacement_neg_hammer_price = data.loc[replacement_neg_hammer_price_ind,['estimate_high','estimate_low']].mean(axis=1)\n",
    "data.loc[replacement_neg_hammer_price_ind,'hammer_price'] = replacement_neg_hammer_price\n",
    "data = data.drop(['estimate_high','estimate_low'],axis=1)\n"
   ]
  },
  {
   "cell_type": "code",
   "execution_count": 4,
   "metadata": {
    "collapsed": true
   },
   "outputs": [],
   "source": [
    "GBP_USD = 1.41\n",
    "EUR_USD = 1.25\n",
    "data.loc[data.currency=='GBP','hammer_price'] = data.loc[data.currency=='GBP','hammer_price'].apply(lambda x : x*GBP_USD)\n",
    "data.loc[data.currency=='EUR','hammer_price'] = data.loc[data.currency=='EUR','hammer_price'].apply(lambda x : x*EUR_USD)\n",
    "# Dropping the Currency type after cleaning\n",
    "data = data.drop('currency',axis=1)"
   ]
  },
  {
   "cell_type": "code",
   "execution_count": 5,
   "metadata": {
    "collapsed": true
   },
   "outputs": [],
   "source": [
    "data.loc[data.category==\"other works on paper\",\"category\"] = \"painting\"\n",
    "data.loc[np.logical_and(data.materials==\"oil on canvas\",data.category==\"unclassified\"),'category']=\"painting\"\n",
    "\n",
    "data.loc[np.logical_and(data.materials==\"works on paper\",data.category==\"unclassified\"),\"category\"]=\"painting\"\n",
    "\n",
    "data.loc[np.logical_and(data.materials==\"oil and charcoal\",data.category==\"unclassified\"),\"category\"]=\"painting\"\n",
    "\n",
    "data.loc[np.logical_and(data.materials==\"sculpture\",data.category==\"unclassified\"),\"category\"]=\"sculpture\"\n",
    "\n",
    "data = data.drop(data.loc[np.logical_and(data.category==\"unclassified\",data.materials.isnull())].index)"
   ]
  },
  {
   "cell_type": "code",
   "execution_count": 18,
   "metadata": {
    "collapsed": true
   },
   "outputs": [],
   "source": [
    "## Create Materials\n",
    "valid_materials = list(data.materials.value_counts()[data.materials.value_counts() > 5000].index)\n",
    "\n",
    "# The only valid materials are paper,canvas,prints,sculpture and other\n",
    "valid_materials = ['paper','sculpture','canvas','prints']\n",
    "def clean_materials(x):\n",
    "    for m in valid_materials:\n",
    "        if m in x.materials:\n",
    "            return m\n",
    "    return 'other'\n",
    "\n",
    "data = data.assign(material = data.apply(clean_materials,axis=1))\n",
    "data = data.drop('materials',axis=1)"
   ]
  },
  {
   "cell_type": "code",
   "execution_count": null,
   "metadata": {
    "collapsed": true
   },
   "outputs": [],
   "source": []
  },
  {
   "cell_type": "code",
   "execution_count": 7,
   "metadata": {
    "collapsed": true
   },
   "outputs": [],
   "source": [
    "data = data.drop(['title'],axis=1)\n",
    "data = data.drop_duplicates()"
   ]
  },
  {
   "cell_type": "code",
   "execution_count": 8,
   "metadata": {
    "collapsed": true
   },
   "outputs": [],
   "source": [
    "def clean_location(x):        \n",
    "    x = str(x).lower()\n",
    "    if \",\" in x:\n",
    "        return x.split(',')[-1].strip(\" \")\n",
    "    return x.strip(\" \")\n",
    "data.loc[:,'location']=data.location.apply(clean_location)\n",
    "valid_locs = list(data.location.value_counts()[data.location.value_counts() > 100].index)\n",
    "data.loc[~data.location.isin(valid_locs),\"location\"] = \"other\"\n",
    "data.loc[data.location==\"nan\",\"location\"] = \"other\""
   ]
  },
  {
   "cell_type": "code",
   "execution_count": 9,
   "metadata": {
    "collapsed": true
   },
   "outputs": [],
   "source": [
    "data.loc[:,'auction_date'] = pd.to_datetime(data.auction_date)\n",
    "data = data.assign(year =[x.year for x in data.auction_date], month=[x.month for x in data.auction_date],day=[x.day for x in data.auction_date],week=[x.week for x in data.auction_date])\n",
    "data = data.drop('auction_date',axis=1)"
   ]
  },
  {
   "cell_type": "code",
   "execution_count": 10,
   "metadata": {
    "collapsed": true
   },
   "outputs": [],
   "source": [
    "def surface_volume(x):\n",
    "    if x.measurement_depth_cm == 0:\n",
    "        return x.measurement_width_cm * x.measurement_height_cm\n",
    "    else:\n",
    "        return x.measurement_width_cm * x.measurement_height_cm * x.measurement_depth_cm\n",
    "data = data.assign(surface = data.loc[:,['measurement_width_cm','measurement_height_cm','measurement_depth_cm']].apply(surface_volume,axis=1))\n"
   ]
  },
  {
   "cell_type": "code",
   "execution_count": 11,
   "metadata": {
    "collapsed": true
   },
   "outputs": [],
   "source": [
    "data = data.assign(is_artist_dead = (~data.artist_death_year.isnull()).astype(np.int))"
   ]
  },
  {
   "cell_type": "code",
   "execution_count": 12,
   "metadata": {
    "collapsed": true
   },
   "outputs": [],
   "source": [
    "data = data.drop('year_of_execution',axis=1)"
   ]
  },
  {
   "cell_type": "code",
   "execution_count": 13,
   "metadata": {
    "collapsed": true
   },
   "outputs": [],
   "source": [
    "## add aspect ratio\n",
    "def calc_aspect_ratio(x):\n",
    "    if x.measurement_width_cm > 0 and x.measurement_height_cm > 0:\n",
    "        return x.measurement_width_cm/x.measurement_height_cm\n",
    "    return 0\n",
    "\n",
    "data = data.assign(aspect_ratio = data.loc[:,[\"measurement_width_cm\",\"measurement_height_cm\"]].apply(calc_aspect_ratio,axis=1))"
   ]
  },
  {
   "cell_type": "code",
   "execution_count": 14,
   "metadata": {
    "collapsed": true
   },
   "outputs": [],
   "source": [
    "# how long ago this got sold\n",
    "current_year = 2018\n",
    "data = data.assign(years_sold = current_year - data.year)\n"
   ]
  },
  {
   "cell_type": "code",
   "execution_count": 15,
   "metadata": {
    "collapsed": true
   },
   "outputs": [],
   "source": [
    "# Number of years since the artist was born\n",
    "data = data.assign(years_sold = current_year - data.artist_birth_year)"
   ]
  },
  {
   "cell_type": "code",
   "execution_count": 16,
   "metadata": {
    "collapsed": true
   },
   "outputs": [],
   "source": [
    "dropped_attr = ['artist_birth_year',\n",
    "                'artist_death_year',\n",
    "                'edition',\n",
    "               ]\n",
    "\n",
    "data = data.drop(dropped_attr,axis=1)"
   ]
  },
  {
   "cell_type": "code",
   "execution_count": 22,
   "metadata": {
    "collapsed": true
   },
   "outputs": [],
   "source": [
    "data = data.loc[data.hammer_price > 0]"
   ]
  },
  {
   "cell_type": "code",
   "execution_count": 27,
   "metadata": {
    "collapsed": true
   },
   "outputs": [],
   "source": [
    "data = data.drop_duplicates()"
   ]
  },
  {
   "cell_type": "code",
   "execution_count": 28,
   "metadata": {
    "collapsed": true
   },
   "outputs": [],
   "source": [
    "data.to_csv('../data/interim/003-raw-clean-data.csv',encoding=\"utf-8\")"
   ]
  },
  {
   "cell_type": "code",
   "execution_count": null,
   "metadata": {
    "collapsed": true
   },
   "outputs": [],
   "source": []
  }
 ],
 "metadata": {
  "kernelspec": {
   "display_name": "Python 3",
   "language": "python",
   "name": "python3"
  },
  "language_info": {
   "codemirror_mode": {
    "name": "ipython",
    "version": 3
   },
   "file_extension": ".py",
   "mimetype": "text/x-python",
   "name": "python",
   "nbconvert_exporter": "python",
   "pygments_lexer": "ipython3",
   "version": "3.6.1"
  }
 },
 "nbformat": 4,
 "nbformat_minor": 2
}
