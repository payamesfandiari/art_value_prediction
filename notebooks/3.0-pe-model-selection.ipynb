{
 "cells": [
  {
   "cell_type": "code",
   "execution_count": 1,
   "metadata": {
    "collapsed": true
   },
   "outputs": [],
   "source": [
    "import pandas as pd\n",
    "import numpy as np\n",
    "from matplotlib import  pyplot as plt\n",
    "%matplotlib inline\n",
    "from time import time\n",
    "\n",
    "from sklearn.preprocessing import StandardScaler\n",
    "from sklearn import model_selection\n",
    "from sklearn.feature_selection import SelectKBest, f_regression,mutual_info_regression\n",
    "from sklearn.linear_model import RidgeCV,LassoCV,LassoLarsCV,ElasticNetCV,BayesianRidge,RANSACRegressor\n",
    "from sklearn.svm import LinearSVR,SVR\n",
    "from sklearn.linear_model import SGDRegressor\n",
    "from sklearn.linear_model import PassiveAggressiveRegressor\n",
    "from sklearn.neighbors import KNeighborsRegressor\n",
    "from sklearn.neighbors import NearestCentroid\n",
    "from sklearn.ensemble import RandomForestRegressor,AdaBoostRegressor,GradientBoostingRegressor\n",
    "from sklearn.utils.extmath import density\n",
    "from sklearn import metrics\n",
    "from sklearn.pipeline import Pipeline\n",
    "\n"
   ]
  },
  {
   "cell_type": "code",
   "execution_count": 2,
   "metadata": {
    "collapsed": true
   },
   "outputs": [],
   "source": [
    "data = pd.read_csv(\"../data/interim/002-pe-features.csv\",sep=\";\")"
   ]
  },
  {
   "cell_type": "code",
   "execution_count": 3,
   "metadata": {},
   "outputs": [
    {
     "name": "stderr",
     "output_type": "stream",
     "text": [
      "/usr/local/lib/python3.6/site-packages/sklearn/model_selection/_split.py:2010: FutureWarning: From version 0.21, test_size will always complement train_size unless both are specified.\n",
      "  FutureWarning)\n"
     ]
    }
   ],
   "source": [
    "pred = list(data.columns)\n",
    "pred.remove(\"hammer_price\")\n",
    "X,lbl = data.loc[:,pred],data.hammer_price\n",
    "\n",
    "train,test,y_train,y_test = model_selection.train_test_split(X,lbl,train_size=0.7)"
   ]
  },
  {
   "cell_type": "code",
   "execution_count": 82,
   "metadata": {
    "collapsed": true
   },
   "outputs": [],
   "source": [
    "def benchmark(clf ,X_train,y_train,X_test,y_test,feature_names=None):\n",
    "    print('_' * 80)\n",
    "    print(\"Training: \")\n",
    "    print(clf)\n",
    "    t0 = time()\n",
    "    clf.fit(X_train, y_train)\n",
    "    train_time = time() - t0\n",
    "    print(\"train time: %0.3fs\" % train_time)\n",
    "\n",
    "    t0 = time()\n",
    "    pred = clf.predict(X_test)\n",
    "    test_time = time() - t0\n",
    "    print(\"test time:  %0.3fs\" % test_time)\n",
    "\n",
    "    score = metrics.mean_squared_error(y_test, pred)\n",
    "    print(\"accuracy:   %0.3f\" % score)\n",
    "\n",
    "    if hasattr(clf, 'coef_'):\n",
    "        print(\"dimensionality: %d\" % clf.coef_.shape[1])\n",
    "        print(\"density: %f\" % density(clf.coef_))\n",
    "\n",
    "        if feature_names is not None:\n",
    "            print(\"top 10 keywords per class:\")\n",
    "            top10 = np.argsort(clf.coef_)[-10:]\n",
    "            print(\"%s: %s\" % ('fake new has :', \" \".join(feature_names[top10])))\n",
    "        print()\n",
    "    elif hasattr(clf,'feature_importances_'):\n",
    "        if feature_names is not None:\n",
    "            print(\"top 10 keywords per class:\")\n",
    "            top10 = np.argsort(clf.feature_importances_)[-10:]\n",
    "            print(\" \".join(feature_names[top10]))\n",
    "        print()\n",
    "    \n",
    "\n",
    "    print(\"Regression report:\")\n",
    "    r2 = metrics.r2_score(y_test, pred)\n",
    "    print(r2)  \n",
    "\n",
    "    print()\n",
    "    clf_descr = str(clf).split('(')[0]\n",
    "    return clf_descr, np.sqrt(score),r2, train_time, test_time\n"
   ]
  },
  {
   "cell_type": "code",
   "execution_count": null,
   "metadata": {
    "collapsed": true
   },
   "outputs": [],
   "source": [
    "def tuning(clf,x,y,params):\n",
    "    \n",
    "    "
   ]
  },
  {
   "cell_type": "code",
   "execution_count": 83,
   "metadata": {},
   "outputs": [
    {
     "name": "stdout",
     "output_type": "stream",
     "text": [
      "________________________________________________________________________________\n",
      "Training: \n",
      "Pipeline(memory=None,\n",
      "     steps=[('STD', StandardScaler(copy=True, with_mean=True, with_std=True)), ('feature_selection', SelectKBest(k=10, score_func=<function f_regression at 0x1084a2048>)), ('regression', RandomForestRegressor(bootstrap=True, criterion='mse', max_depth=None,\n",
      "           max_features='auto', max_leaf_nodes=...imators=100, n_jobs=2,\n",
      "           oob_score=False, random_state=None, verbose=0, warm_start=False))])\n",
      "train time: 5.196s\n",
      "test time:  0.515s\n",
      "accuracy:   228759542479.003\n",
      "Regression report:\n",
      "0.322707319637\n",
      "\n"
     ]
    },
    {
     "data": {
      "text/plain": [
       "('Pipeline',\n",
       " 478288.13750604686,\n",
       " 0.32270731963729837,\n",
       " 5.1960608959198,\n",
       " 0.5147418975830078)"
      ]
     },
     "execution_count": 83,
     "metadata": {},
     "output_type": "execute_result"
    }
   ],
   "source": [
    "clf = Pipeline([\n",
    "        ('STD',StandardScaler()),\n",
    "        ('feature_selection',SelectKBest(f_regression, k=10)),\n",
    "        ('regression', RandomForestRegressor(n_estimators=100,n_jobs=2))\n",
    "    ])\n",
    "\n",
    "benchmark(clf,train,y_train,test,y_test,feature_names=None)"
   ]
  },
  {
   "cell_type": "code",
   "execution_count": 10,
   "metadata": {
    "collapsed": true
   },
   "outputs": [],
   "source": [
    "scores = f_regression(X,lbl)"
   ]
  },
  {
   "cell_type": "code",
   "execution_count": 11,
   "metadata": {},
   "outputs": [
    {
     "data": {
      "text/plain": [
       "([<matplotlib.axis.XTick at 0x114fd61d0>,\n",
       "  <matplotlib.axis.XTick at 0x1150bdc18>,\n",
       "  <matplotlib.axis.XTick at 0x1222812e8>,\n",
       "  <matplotlib.axis.XTick at 0x1150c8b00>,\n",
       "  <matplotlib.axis.XTick at 0x1150bd710>,\n",
       "  <matplotlib.axis.XTick at 0x114ee5438>,\n",
       "  <matplotlib.axis.XTick at 0x12291da20>,\n",
       "  <matplotlib.axis.XTick at 0x122925278>,\n",
       "  <matplotlib.axis.XTick at 0x122925ba8>,\n",
       "  <matplotlib.axis.XTick at 0x12292a5c0>,\n",
       "  <matplotlib.axis.XTick at 0x12292af98>,\n",
       "  <matplotlib.axis.XTick at 0x1229319b0>,\n",
       "  <matplotlib.axis.XTick at 0x1229373c8>,\n",
       "  <matplotlib.axis.XTick at 0x122937da0>,\n",
       "  <matplotlib.axis.XTick at 0x12293e7b8>,\n",
       "  <matplotlib.axis.XTick at 0x1229441d0>,\n",
       "  <matplotlib.axis.XTick at 0x122944ba8>,\n",
       "  <matplotlib.axis.XTick at 0x12294c5c0>,\n",
       "  <matplotlib.axis.XTick at 0x12294cf98>,\n",
       "  <matplotlib.axis.XTick at 0x1229549b0>],\n",
       " <a list of 20 Text xticklabel objects>)"
      ]
     },
     "execution_count": 11,
     "metadata": {},
     "output_type": "execute_result"
    },
    {
     "data": {
      "image/png": "[encoded data removed]",
      "text/plain": [
       "<matplotlib.figure.Figure at 0x108e2eeb8>"
      ]
     },
     "metadata": {},
     "output_type": "display_data"
    }
   ],
   "source": [
    "x = np.argsort(scores[0])[-20:]\n",
    "plt.bar(range(0,len(x)),scores[0][x])\n",
    "plt.xticks(range(0,len(x)),tuple(X.columns.values[x]),rotation='vertical')"
   ]
  },
  {
   "cell_type": "code",
   "execution_count": 12,
   "metadata": {
    "collapsed": true
   },
   "outputs": [],
   "source": [
    "clf = RandomForestRegressor(n_estimators=100,criterion='mse',n_jobs=-1,verbose=1)"
   ]
  },
  {
   "cell_type": "code",
   "execution_count": 13,
   "metadata": {},
   "outputs": [
    {
     "name": "stderr",
     "output_type": "stream",
     "text": [
      "[Parallel(n_jobs=-1)]: Done  34 tasks      | elapsed:   23.4s\n",
      "[Parallel(n_jobs=-1)]: Done 100 out of 100 | elapsed:  1.0min finished\n"
     ]
    },
    {
     "data": {
      "text/plain": [
       "RandomForestRegressor(bootstrap=True, criterion='mse', max_depth=None,\n",
       "           max_features='auto', max_leaf_nodes=None,\n",
       "           min_impurity_decrease=0.0, min_impurity_split=None,\n",
       "           min_samples_leaf=1, min_samples_split=2,\n",
       "           min_weight_fraction_leaf=0.0, n_estimators=100, n_jobs=-1,\n",
       "           oob_score=False, random_state=None, verbose=1, warm_start=False)"
      ]
     },
     "execution_count": 13,
     "metadata": {},
     "output_type": "execute_result"
    }
   ],
   "source": [
    "clf.fit(train,y_train)"
   ]
  },
  {
   "cell_type": "code",
   "execution_count": 14,
   "metadata": {},
   "outputs": [
    {
     "name": "stderr",
     "output_type": "stream",
     "text": [
      "[Parallel(n_jobs=8)]: Done  34 tasks      | elapsed:    0.2s\n",
      "[Parallel(n_jobs=8)]: Done 100 out of 100 | elapsed:    0.5s finished\n"
     ]
    },
    {
     "name": "stdout",
     "output_type": "stream",
     "text": [
      "0.543550043219\n"
     ]
    }
   ],
   "source": [
    "y_pred = clf.predict(test)\n",
    "print(metrics.r2_score(y_test, y_pred))\n",
    "importance = clf.feature_importances_"
   ]
  },
  {
   "cell_type": "code",
   "execution_count": 15,
   "metadata": {},
   "outputs": [
    {
     "data": {
      "text/plain": [
       "([<matplotlib.axis.XTick at 0x122931a90>,\n",
       "  <matplotlib.axis.XTick at 0x128c1c080>,\n",
       "  <matplotlib.axis.XTick at 0x122959cc0>,\n",
       "  <matplotlib.axis.XTick at 0x128f125f8>,\n",
       "  <matplotlib.axis.XTick at 0x128f12fd0>,\n",
       "  <matplotlib.axis.XTick at 0x128f179e8>,\n",
       "  <matplotlib.axis.XTick at 0x128f1c400>,\n",
       "  <matplotlib.axis.XTick at 0x128f1cdd8>,\n",
       "  <matplotlib.axis.XTick at 0x128f227f0>,\n",
       "  <matplotlib.axis.XTick at 0x128f28208>,\n",
       "  <matplotlib.axis.XTick at 0x128f28be0>,\n",
       "  <matplotlib.axis.XTick at 0x128f325f8>,\n",
       "  <matplotlib.axis.XTick at 0x128f32fd0>,\n",
       "  <matplotlib.axis.XTick at 0x128f379e8>,\n",
       "  <matplotlib.axis.XTick at 0x128f3e400>,\n",
       "  <matplotlib.axis.XTick at 0x128f3edd8>,\n",
       "  <matplotlib.axis.XTick at 0x128f477f0>,\n",
       "  <matplotlib.axis.XTick at 0x128f4b208>,\n",
       "  <matplotlib.axis.XTick at 0x128f4bbe0>,\n",
       "  <matplotlib.axis.XTick at 0x128f525f8>],\n",
       " <a list of 20 Text xticklabel objects>)"
      ]
     },
     "execution_count": 15,
     "metadata": {},
     "output_type": "execute_result"
    },
    {
     "data": {
      "image/png": "[encoded data removed]",
      "text/plain": [
       "<matplotlib.figure.Figure at 0x11508acf8>"
      ]
     },
     "metadata": {},
     "output_type": "display_data"
    }
   ],
   "source": [
    "x = np.argsort(importance)[-20:]\n",
    "plt.bar(range(0,len(x)),importance[x])\n",
    "plt.xticks(range(0,len(x)),tuple(X.columns.values[x]),rotation='vertical')"
   ]
  },
  {
   "cell_type": "markdown",
   "metadata": {},
   "source": [
    "# Conclusion \n",
    "\n",
    "#### Since both the ANOVA regression scores and Tree-based feature importance point out that the measurements of the peice plays an important role in the price, We need to do some important feature engineering."
   ]
  },
  {
   "cell_type": "code",
   "execution_count": null,
   "metadata": {
    "collapsed": true
   },
   "outputs": [],
   "source": []
  },
  {
   "cell_type": "code",
   "execution_count": null,
   "metadata": {
    "collapsed": true
   },
   "outputs": [],
   "source": []
  },
  {
   "cell_type": "code",
   "execution_count": 12,
   "metadata": {},
   "outputs": [
    {
     "name": "stdout",
     "output_type": "stream",
     "text": [
      "________________________________________________________________________________\n",
      "Training: \n",
      "RandomForestRegressor(bootstrap=True, criterion='mse', max_depth=None,\n",
      "           max_features='auto', max_leaf_nodes=None,\n",
      "           min_impurity_decrease=0.0, min_impurity_split=None,\n",
      "           min_samples_leaf=1, min_samples_split=2,\n",
      "           min_weight_fraction_leaf=0.0, n_estimators=100, n_jobs=2,\n",
      "           oob_score=False, random_state=None, verbose=1, warm_start=False)\n"
     ]
    },
    {
     "name": "stderr",
     "output_type": "stream",
     "text": [
      "[Parallel(n_jobs=2)]: Done  46 tasks      | elapsed:   44.6s\n",
      "[Parallel(n_jobs=2)]: Done 100 out of 100 | elapsed:  1.6min finished\n"
     ]
    },
    {
     "name": "stdout",
     "output_type": "stream",
     "text": [
      "train time: 98.752s\n"
     ]
    },
    {
     "name": "stderr",
     "output_type": "stream",
     "text": [
      "[Parallel(n_jobs=2)]: Done  46 tasks      | elapsed:    0.3s\n",
      "[Parallel(n_jobs=2)]: Done 100 out of 100 | elapsed:    0.7s finished\n"
     ]
    },
    {
     "name": "stdout",
     "output_type": "stream",
     "text": [
      "test time:  0.755s\n",
      "accuracy:   189870648604.387\n",
      "top 10 keywords per class:\n",
      "location_new york artist_name_Willem de Kooning month week artist_name_Lucian Freud measurement_height_cm day year artist_name_Gustav Klimt measurement_width_cm\n",
      "\n",
      "Regression report:\n",
      "0.437846399228\n",
      "\n"
     ]
    },
    {
     "data": {
      "text/plain": [
       "('RandomForestRegressor',\n",
       " 189870648604.3873,\n",
       " 98.7522292137146,\n",
       " 0.7546610832214355)"
      ]
     },
     "execution_count": 12,
     "metadata": {},
     "output_type": "execute_result"
    }
   ],
   "source": [
    "\n",
    "def main(X,X_t,y,y_t):\n",
    "    print(X.shape)\n",
    "    x_train,x_test,preprocessor = prepare_data(X,X_t)\n",
    "\n",
    "    results = []\n",
    "    for clf, name in (\n",
    "            (OneVsRestClassifier(RidgeClassifier(tol=1e-2, solver=\"lsqr\")), \"Ridge Classifier\"),\n",
    "            (OneVsRestClassifier(Perceptron(n_iter=50), \"Perceptron\")),\n",
    "            (OneVsRestClassifier(PassiveAggressiveClassifier(n_iter=50)), \"Passive-Aggressive\"),\n",
    "            (OneVsRestClassifier(KNeighborsClassifier(n_neighbors=10)), \"kNN\"),\n",
    "            (OneVsRestClassifier(RandomForestClassifier(n_estimators=300)), \"Random forest\")):\n",
    "        print('=' * 80)\n",
    "        print(name)\n",
    "        results.append(benchmark(clf,x_train,y,x_test,y_t,None))\n",
    "\n",
    "    for penalty in [\"l2\", \"l1\"]:\n",
    "        print('=' * 80)\n",
    "        print(\"%s penalty\" % penalty.upper())\n",
    "        # Train Liblinear model\n",
    "        results.append(benchmark(OneVsRestClassifier(LinearSVC(loss='l2', penalty=penalty,\n",
    "                                           dual=False, tol=1e-3)),x_train,y,x_test,y_t,None))\n",
    "\n",
    "        # Train SGD model\n",
    "        results.append(benchmark(OneVsRestClassifier(SGDClassifier(alpha=.0001, n_iter=50,\n",
    "                                               penalty=penalty)),x_train,y,x_test,y_t,None))\n",
    "\n",
    "    # Train SGD with Elastic Net penalty\n",
    "    print('=' * 80)\n",
    "    print(\"Elastic-Net penalty\")\n",
    "    results.append(benchmark(OneVsRestClassifier(SGDClassifier(alpha=.0001, n_iter=50,\n",
    "                                           penalty=\"elasticnet\")),x_train,y,x_test,y_t,None))\n",
    "\n",
    "    # Train NearestCentroid without threshold\n",
    "    print('=' * 80)\n",
    "    print(\"NearestCentroid (aka Rocchio classifier)\")\n",
    "    results.append(benchmark(OneVsRestClassifier(NearestCentroid()),x_train,y,x_test,y_t,None))\n",
    "\n",
    "    # Train sparse Naive Bayes classifiers\n",
    "    print('=' * 80)\n",
    "    print(\"Naive Bayes\")\n",
    "    results.append(benchmark(OneVsRestClassifier(MultinomialNB(alpha=.01)),x_train,y,x_test,y_t,None))\n",
    "    results.append(benchmark(OneVsRestClassifier(BernoulliNB(alpha=.01)),x_train,y,x_test,y_t,None))\n",
    "\n",
    "    print('=' * 80)\n",
    "    print(\"LinearSVC with L1-based feature selection\")\n",
    "    # The smaller C, the stronger the regularization.\n",
    "    # The more regularization, the more sparsity.\n",
    "    results.append(benchmark(Pipeline([\n",
    "        ('feature_selection', OneVsRestClassifier(LinearSVC(penalty=\"l1\", dual=False, tol=1e-3))),\n",
    "        ('classification', OneVsRestClassifier(LinearSVC()))\n",
    "    ]),x_train,y,x_test,y_t,None))\n",
    "\n",
    "    # make some plots\n",
    "\n",
    "    indices = np.arange(len(results))\n",
    "\n",
    "    results = [[x[i] for x in results] for i in range(4)]\n",
    "\n",
    "    clf_names, score, training_time, test_time = results\n",
    "    training_time = np.array(training_time) / np.max(training_time)\n",
    "    test_time = np.array(test_time) / np.max(test_time)\n",
    "\n",
    "    plt.figure(figsize=(12, 8))\n",
    "    plt.title(\"Score\")\n",
    "    plt.barh(indices, score, .2, label=\"score\", color='navy')\n",
    "    plt.barh(indices + .3, training_time, .2, label=\"training time\",\n",
    "             color='c')\n",
    "    plt.barh(indices + .6, test_time, .2, label=\"test time\", color='darkorange')\n",
    "    plt.yticks(())\n",
    "    plt.legend(loc='best')\n",
    "    plt.subplots_adjust(left=.25)\n",
    "    plt.subplots_adjust(top=.95)\n",
    "    plt.subplots_adjust(bottom=.05)\n",
    "\n",
    "    for i, c in zip(indices, clf_names):\n",
    "        plt.text(-.3, i, c)\n",
    "\n",
    "    plt.show()\n"
   ]
  },
  {
   "cell_type": "code",
   "execution_count": 11,
   "metadata": {},
   "outputs": [
    {
     "data": {
      "text/plain": [
       "array(['measurement_depth_cm', 'day', 'month'], dtype=object)"
      ]
     },
     "execution_count": 11,
     "metadata": {},
     "output_type": "execute_result"
    }
   ],
   "source": []
  }
 ],
 "metadata": {
  "kernelspec": {
   "display_name": "Python 3",
   "language": "python",
   "name": "python3"
  },
  "language_info": {
   "codemirror_mode": {
    "name": "ipython",
    "version": 3
   },
   "file_extension": ".py",
   "mimetype": "text/x-python",
   "name": "python",
   "nbconvert_exporter": "python",
   "pygments_lexer": "ipython3",
   "version": "3.6.1"
  }
 },
 "nbformat": 4,
 "nbformat_minor": 2
}
